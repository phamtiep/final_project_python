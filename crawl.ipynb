{
 "cells": [
  {
   "cell_type": "code",
   "execution_count": null,
   "metadata": {},
   "outputs": [],
   "source": [
    "import time\n",
    "from facebook_scraper import *\n",
    "import pandas as pd\n",
    "import numpy as np\n",
    "import random "
   ]
  },
  {
   "cell_type": "code",
   "execution_count": null,
   "metadata": {},
   "outputs": [],
   "source": [
    "FANPAGE_LINK =\"vcslmht\"\n",
    "COOKIE_PATH = \"E:/laptrinh/pythonxulydulieu/final-project/cookies.txt\"\n",
    "\n",
    "PAGES_NUMBER = 100; # Number of pages to crawlpost_list = []\n"
   ]
  },
  {
   "cell_type": "code",
   "execution_count": null,
   "metadata": {},
   "outputs": [],
   "source": [
    "# cào comments\n",
    "post_list = []\n",
    "\n",
    "\n",
    "start_url = \"https://m.facebook.com/profile/timeline/stream/?cursor=AQHRgM3Js6z6oxk1P8DJxXssNgCiBA09xP1t4p6gVfY1jtts9bQOFCnXiLQN0JlJp1sJW1Vd2JjH3YBYPdPHLvYPi1SUIrDEuh6dFOyg2wjphRJXUAvZItZ3tcc2iE3-2iIEmtIfxeuWBCZWti7mbWZFzwDTdfQrTJJc_6ww727i-_qbvoD481x8E8qRVmqkgRZcpDlo-0URJg2056m4qApJUxkHqPgyz0ytDHwRCv-ivT-dYE4fu_9zvnhfr0_-H3WuHX3c_XGybaKv_kMcCMYn8ytRKOTjngJ5NWbLea2EnQLwOzs4MBmo0nTBWRNvTGD03vvUbRnkrBAB4nn2jxCYRHNoEU8vF8wQXC7i-JpORPCckkfR7IPgbe941bX52gQI0j4akdHx8UcOaKhAy9XGuOH1ieyQ5Cj45i8RdOYILvkuCWTGyvcPU77b-0yGPvpBM1-8kEGneEUYLY-4Cie_X-RSLAdLmuxADRrcL6JIEn4&start_time=-9223372036854775808&profile_id=100087819968175&replace_id=u_0_0_2O\"\n",
    "\n",
    "\n",
    "\n",
    "def handle_pagination_url(url):\n",
    "    global start_url\n",
    "    start_url = url\n",
    "while True:\n",
    "        for post in get_posts(FANPAGE_LINK,\n",
    "                    options = {  \"comments\" : 50,\"reactions\": False, \"allow_extra_requests\": True ,\n",
    "                               \"post_per_page\" : 100,\"reactors\" :False},\n",
    "                    extra_info=True, pages=PAGES_NUMBER, cookies=COOKIE_PATH,page_limit=None, start_url=start_url, request_url_callback=handle_pagination_url ) :\n",
    "            post[\"start_url\"] = start_url\n",
    "            post[\"comments_text\"] = []\n",
    "            comments = list(post[\"comments_full\"]) \n",
    "            \n",
    "    # ta sẽ tiền xử lý comments text ngay tại đây giúp đơn giản\n",
    "            for comment in comments :\n",
    "                post[\"comments_text\"].append(comment['comment_text']);\n",
    "            print(post);\n",
    "            post_list.append(post)\n",
    "            time.sleep(random.randrange(2, 10, 1));\n",
    "        print(\"All done\")\n",
    "      \n",
    "  \n",
    "   "
   ]
  },
  {
   "cell_type": "code",
   "execution_count": null,
   "metadata": {},
   "outputs": [],
   "source": [
    "# get comment\n",
    "post_df_full = pd.DataFrame(columns=post_list[0].keys(), index=range(len(post_list)), data=post_list)\n",
    "\n",
    "path = \"E:/laptrinh/pythonxulydulieu/final-project/\" + FANPAGE_LINK + \"comments_alternative4\"   + \".csv\"\n",
    "post_df_full.to_csv(path, index=False)\n",
    "print(path)\n",
    "post_df_full"
   ]
  },
  {
   "cell_type": "code",
   "execution_count": null,
   "metadata": {},
   "outputs": [],
   "source": [
    "#cào reactions\n",
    "\n",
    "post_list = []\n",
    "\n",
    "\n",
    "start_url = \"https://m.facebook.com/profile/timeline/stream/?cursor=AQHRgM3Js6z6oxk1P8DJxXssNgCiBA09xP1t4p6gVfY1jtts9bQOFCnXiLQN0JlJp1sJW1Vd2JjH3YBYPdPHLvYPi1SUIrDEuh6dFOyg2wjphRJXUAvZItZ3tcc2iE3-2iIEmtIfxeuWBCZWti7mbWZFzwDTdfQrTJJc_6ww727i-_qbvoD481x8E8qRVmqkgRZcpDlo-0URJg2056m4qApJUxkHqPgyz0ytDHwRCv-ivT-dYE4fu_9zvnhfr0_-H3WuHX3c_XGybaKv_kMcCMYn8ytRKOTjngJ5NWbLea2EnQLwOzs4MBmo0nTBWRNvTGD03vvUbRnkrBAB4nn2jxCYRHNoEU8vF8wQXC7i-JpORPCckkfR7IPgbe941bX52gQI0j4akdHx8UcOaKhAy9XGuOH1ieyQ5Cj45i8RdOYILvkuCWTGyvcPU77b-0yGPvpBM1-8kEGneEUYLY-4Cie_X-RSLAdLmuxADRrcL6JIEn4&start_time=-9223372036854775808&profile_id=100087819968175&replace_id=u_0_0_2O\"\n",
    "\n",
    "def handle_pagination_url(url):\n",
    "    global start_url\n",
    "    start_url = url\n",
    "\n",
    "while True:\n",
    "    try:\n",
    "        for post in get_posts(FANPAGE_LINK,\n",
    "                    options = {  \"comments\" : False,\"reactions\": True, \"allow_extra_requests\": True ,\n",
    "                               \"post_per_page\" : 100,\"reactors\" :False},\n",
    "                    extra_info=True, pages=PAGES_NUMBER, cookies=COOKIE_PATH,page_limit=None, start_url=start_url, request_url_callback=handle_pagination_url ) :\n",
    "            post[\"start_url\"] = start_url;\n",
    "            post[\"reactions_haha\"] = post[\"reactions\"].get(\"haha\",0);\n",
    "            post[\"reactions_like\"] = post[\"reactions\"].get(\"like\",0);\n",
    "            post[\"reactions_love\"] = post[\"reactions\"].get(\"love\",0);\n",
    "            post[\"reactions_angry\"] = post[\"reactions\"].get(\"angry\",0);\n",
    "            post[\"reactions_wow\"] = post[\"reactions\"].get(\"wow\",0);\n",
    "            post[\"reactions_care\"] = post[\"reactions\"].get(\"care\",0);\n",
    "            post[\"reactions_sad\"] = post[\"reactions\"].get(\"sad\",0);\n",
    "            print(post);\n",
    "            post_list.append(post)\n",
    "            time.sleep(random.randrange(2, 10, 1));\n",
    "        print(\"All done\")\n",
    "        break;\n",
    "  \n",
    "    except exceptions.TemporarilyBanned:\n",
    "        print(\"Temporarily banned, sleeping for 10m\")\n",
    "        time.sleep(1000)"
   ]
  },
  {
   "cell_type": "code",
   "execution_count": null,
   "metadata": {},
   "outputs": [],
   "source": [
    "post_df_full = pd.DataFrame(columns=post_list[0].keys(), index=range(len(post_list)), data=post_list)\n",
    "\n",
    "path = \"E:/laptrinh/pythonxulydulieu/final-project/\" + FANPAGE_LINK + \"_reactions7\"   + \".csv\"\n",
    "post_df_full.to_csv(path, index=False)\n",
    "print(path)\n",
    "post_df_full"
   ]
  }
 ],
 "metadata": {
  "kernelspec": {
   "display_name": "Python 3",
   "language": "python",
   "name": "python3"
  },
  "language_info": {
   "codemirror_mode": {
    "name": "ipython",
    "version": 3
   },
   "file_extension": ".py",
   "mimetype": "text/x-python",
   "name": "python",
   "nbconvert_exporter": "python",
   "pygments_lexer": "ipython3",
   "version": "3.11.6"
  }
 },
 "nbformat": 4,
 "nbformat_minor": 2
}
